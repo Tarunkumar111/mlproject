{
 "cells": [
  {
   "cell_type": "code",
   "execution_count": null,
   "metadata": {},
   "outputs": [],
   "source": [
    "from setuptools import find_packages,setup\n",
    "from typing import List\n",
    "\n",
    "\n",
    "def get_requirements(file_path:str)->List[str]:\n",
    "    '''\n",
    "    this function will return the list of requirements\n",
    "    '''\n",
    "    requirements=[]\n",
    "    with open(file_path) as file_obj:\n",
    "        requirements=file_obj.readlines()\n",
    "        requirements=[req.replace(\"\\n\",\"\") for req in requirements]\n",
    "        requirements.pop()\n",
    "    \n",
    "    return requirements\n",
    "\n"
   ]
  },
  {
   "cell_type": "code",
   "execution_count": 3,
   "metadata": {},
   "outputs": [
    {
     "data": {
      "text/plain": [
       "['numpy ', 'pandas', 'seaborn ', '-e . ']"
      ]
     },
     "execution_count": 3,
     "metadata": {},
     "output_type": "execute_result"
    }
   ],
   "source": [
    "get_requirements('requirements.txt')"
   ]
  },
  {
   "cell_type": "code",
   "execution_count": null,
   "metadata": {},
   "outputs": [],
   "source": []
  }
 ],
 "metadata": {
  "kernelspec": {
   "display_name": "venv",
   "language": "python",
   "name": "python3"
  },
  "language_info": {
   "codemirror_mode": {
    "name": "ipython",
    "version": 3
   },
   "file_extension": ".py",
   "mimetype": "text/x-python",
   "name": "python",
   "nbconvert_exporter": "python",
   "pygments_lexer": "ipython3",
   "version": "3.12.5"
  }
 },
 "nbformat": 4,
 "nbformat_minor": 2
}
